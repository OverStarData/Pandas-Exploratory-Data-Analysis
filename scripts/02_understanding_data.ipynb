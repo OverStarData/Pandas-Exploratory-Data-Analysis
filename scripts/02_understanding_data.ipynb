{
 "cells": [
  {
   "cell_type": "markdown",
   "id": "f8ab7541-d708-49af-83ef-d202c35811b9",
   "metadata": {},
   "source": [
    "# 02- Understanding Data"
   ]
  },
  {
   "cell_type": "code",
   "execution_count": 39,
   "id": "5859091a-8bb5-4ce9-9c64-91ec5b9be4cd",
   "metadata": {},
   "outputs": [],
   "source": [
    "# import libs\n",
    "\n",
    "import pandas as pd\n",
    "import numpy as np\n",
    "import matplotlib.pyplot as plt\n",
    "import seaborn as sns"
   ]
  },
  {
   "cell_type": "code",
   "execution_count": 40,
   "id": "5772021d-4e13-407c-83ad-86c4f0f582dd",
   "metadata": {},
   "outputs": [],
   "source": [
    "# read data and set rows & columns options\n",
    "df = pd.read_csv('/Users/deadman/Documents/Pandas-Exploratory Data Analysis/data/coaster_db.csv')\n",
    "\n",
    "plt.style.use('ggplot')\n",
    "\n",
    "pd.set_option(\"display.max_rows\",200)\n",
    "pd.set_option(\"display.max_columns\",200)"
   ]
  },
  {
   "cell_type": "code",
   "execution_count": 41,
   "id": "01374f9c-98e5-456b-8147-0cfb645154de",
   "metadata": {
    "scrolled": true
   },
   "outputs": [
    {
     "data": {
      "text/html": [
       "<div>\n",
       "<style scoped>\n",
       "    .dataframe tbody tr th:only-of-type {\n",
       "        vertical-align: middle;\n",
       "    }\n",
       "\n",
       "    .dataframe tbody tr th {\n",
       "        vertical-align: top;\n",
       "    }\n",
       "\n",
       "    .dataframe thead th {\n",
       "        text-align: right;\n",
       "    }\n",
       "</style>\n",
       "<table border=\"1\" class=\"dataframe\">\n",
       "  <thead>\n",
       "    <tr style=\"text-align: right;\">\n",
       "      <th></th>\n",
       "      <th>coaster_name</th>\n",
       "      <th>Length</th>\n",
       "      <th>Speed</th>\n",
       "      <th>Location</th>\n",
       "      <th>Status</th>\n",
       "      <th>Opening date</th>\n",
       "      <th>Type</th>\n",
       "      <th>Manufacturer</th>\n",
       "      <th>Height restriction</th>\n",
       "      <th>Model</th>\n",
       "      <th>Height</th>\n",
       "      <th>Inversions</th>\n",
       "      <th>Lift/launch system</th>\n",
       "      <th>Cost</th>\n",
       "      <th>Trains</th>\n",
       "      <th>Park section</th>\n",
       "      <th>Duration</th>\n",
       "      <th>Capacity</th>\n",
       "      <th>G-force</th>\n",
       "      <th>Designer</th>\n",
       "      <th>Max vertical angle</th>\n",
       "      <th>Drop</th>\n",
       "      <th>Soft opening date</th>\n",
       "      <th>Fast Lane available</th>\n",
       "      <th>Replaced</th>\n",
       "      <th>Track layout</th>\n",
       "      <th>Fastrack available</th>\n",
       "      <th>Soft opening date.1</th>\n",
       "      <th>Closing date</th>\n",
       "      <th>Opened</th>\n",
       "      <th>Replaced by</th>\n",
       "      <th>Website</th>\n",
       "      <th>Flash Pass Available</th>\n",
       "      <th>Must transfer from wheelchair</th>\n",
       "      <th>Theme</th>\n",
       "      <th>Single rider line available</th>\n",
       "      <th>Restraint Style</th>\n",
       "      <th>Flash Pass available</th>\n",
       "      <th>Acceleration</th>\n",
       "      <th>Restraints</th>\n",
       "      <th>Name</th>\n",
       "      <th>year_introduced</th>\n",
       "      <th>latitude</th>\n",
       "      <th>longitude</th>\n",
       "      <th>Type_Main</th>\n",
       "      <th>opening_date_clean</th>\n",
       "      <th>speed1</th>\n",
       "      <th>speed2</th>\n",
       "      <th>speed1_value</th>\n",
       "      <th>speed1_unit</th>\n",
       "      <th>speed_mph</th>\n",
       "      <th>height_value</th>\n",
       "      <th>height_unit</th>\n",
       "      <th>height_ft</th>\n",
       "      <th>Inversions_clean</th>\n",
       "      <th>Gforce_clean</th>\n",
       "    </tr>\n",
       "  </thead>\n",
       "  <tbody>\n",
       "    <tr>\n",
       "      <th>0</th>\n",
       "      <td>Switchback Railway</td>\n",
       "      <td>600 ft (180 m)</td>\n",
       "      <td>6 mph (9.7 km/h)</td>\n",
       "      <td>Coney Island</td>\n",
       "      <td>Removed</td>\n",
       "      <td>June 16, 1884</td>\n",
       "      <td>Wood</td>\n",
       "      <td>LaMarcus Adna Thompson</td>\n",
       "      <td>NaN</td>\n",
       "      <td>Lift Packed</td>\n",
       "      <td>50 ft (15 m)</td>\n",
       "      <td>NaN</td>\n",
       "      <td>gravity</td>\n",
       "      <td>NaN</td>\n",
       "      <td>NaN</td>\n",
       "      <td>Coney Island Cyclone Site</td>\n",
       "      <td>1:00</td>\n",
       "      <td>1600 riders per hour</td>\n",
       "      <td>2.9</td>\n",
       "      <td>LaMarcus Adna Thompson</td>\n",
       "      <td>30°</td>\n",
       "      <td>43 ft (13 m)</td>\n",
       "      <td>NaN</td>\n",
       "      <td>NaN</td>\n",
       "      <td>NaN</td>\n",
       "      <td>Gravity pulled coaster</td>\n",
       "      <td>NaN</td>\n",
       "      <td>NaN</td>\n",
       "      <td>NaN</td>\n",
       "      <td>NaN</td>\n",
       "      <td>NaN</td>\n",
       "      <td>NaN</td>\n",
       "      <td>NaN</td>\n",
       "      <td>NaN</td>\n",
       "      <td>NaN</td>\n",
       "      <td>NaN</td>\n",
       "      <td>NaN</td>\n",
       "      <td>NaN</td>\n",
       "      <td>NaN</td>\n",
       "      <td>NaN</td>\n",
       "      <td>NaN</td>\n",
       "      <td>1884</td>\n",
       "      <td>40.574</td>\n",
       "      <td>-73.978</td>\n",
       "      <td>Wood</td>\n",
       "      <td>1884-06-16</td>\n",
       "      <td>6 mph</td>\n",
       "      <td>9.7 km/h</td>\n",
       "      <td>6.0</td>\n",
       "      <td>mph</td>\n",
       "      <td>6.0</td>\n",
       "      <td>50.0</td>\n",
       "      <td>ft</td>\n",
       "      <td>NaN</td>\n",
       "      <td>0</td>\n",
       "      <td>2.9</td>\n",
       "    </tr>\n",
       "    <tr>\n",
       "      <th>1</th>\n",
       "      <td>Flip Flap Railway</td>\n",
       "      <td>NaN</td>\n",
       "      <td>NaN</td>\n",
       "      <td>Sea Lion Park</td>\n",
       "      <td>Removed</td>\n",
       "      <td>1895</td>\n",
       "      <td>Wood</td>\n",
       "      <td>Lina Beecher</td>\n",
       "      <td>NaN</td>\n",
       "      <td>NaN</td>\n",
       "      <td>NaN</td>\n",
       "      <td>1.0</td>\n",
       "      <td>NaN</td>\n",
       "      <td>NaN</td>\n",
       "      <td>a single car. Riders are arranged 1 across in ...</td>\n",
       "      <td>NaN</td>\n",
       "      <td>NaN</td>\n",
       "      <td>NaN</td>\n",
       "      <td>12</td>\n",
       "      <td>Lina Beecher</td>\n",
       "      <td>NaN</td>\n",
       "      <td>NaN</td>\n",
       "      <td>NaN</td>\n",
       "      <td>NaN</td>\n",
       "      <td>NaN</td>\n",
       "      <td>NaN</td>\n",
       "      <td>NaN</td>\n",
       "      <td>NaN</td>\n",
       "      <td>1902</td>\n",
       "      <td>NaN</td>\n",
       "      <td>NaN</td>\n",
       "      <td>NaN</td>\n",
       "      <td>NaN</td>\n",
       "      <td>NaN</td>\n",
       "      <td>NaN</td>\n",
       "      <td>NaN</td>\n",
       "      <td>NaN</td>\n",
       "      <td>NaN</td>\n",
       "      <td>NaN</td>\n",
       "      <td>NaN</td>\n",
       "      <td>NaN</td>\n",
       "      <td>1895</td>\n",
       "      <td>40.578</td>\n",
       "      <td>-73.979</td>\n",
       "      <td>Wood</td>\n",
       "      <td>1895-01-01</td>\n",
       "      <td>NaN</td>\n",
       "      <td>NaN</td>\n",
       "      <td>NaN</td>\n",
       "      <td>NaN</td>\n",
       "      <td>NaN</td>\n",
       "      <td>NaN</td>\n",
       "      <td>NaN</td>\n",
       "      <td>NaN</td>\n",
       "      <td>1</td>\n",
       "      <td>12.0</td>\n",
       "    </tr>\n",
       "  </tbody>\n",
       "</table>\n",
       "</div>"
      ],
      "text/plain": [
       "         coaster_name          Length             Speed       Location  \\\n",
       "0  Switchback Railway  600 ft (180 m)  6 mph (9.7 km/h)   Coney Island   \n",
       "1   Flip Flap Railway             NaN               NaN  Sea Lion Park   \n",
       "\n",
       "    Status   Opening date  Type            Manufacturer Height restriction  \\\n",
       "0  Removed  June 16, 1884  Wood  LaMarcus Adna Thompson                NaN   \n",
       "1  Removed           1895  Wood            Lina Beecher                NaN   \n",
       "\n",
       "         Model        Height  Inversions Lift/launch system Cost  \\\n",
       "0  Lift Packed  50 ft (15 m)         NaN            gravity  NaN   \n",
       "1          NaN           NaN         1.0                NaN  NaN   \n",
       "\n",
       "                                              Trains  \\\n",
       "0                                                NaN   \n",
       "1  a single car. Riders are arranged 1 across in ...   \n",
       "\n",
       "                Park section Duration              Capacity G-force  \\\n",
       "0  Coney Island Cyclone Site     1:00  1600 riders per hour     2.9   \n",
       "1                        NaN      NaN                   NaN      12   \n",
       "\n",
       "                 Designer Max vertical angle          Drop Soft opening date  \\\n",
       "0  LaMarcus Adna Thompson                30°  43 ft (13 m)               NaN   \n",
       "1            Lina Beecher                NaN           NaN               NaN   \n",
       "\n",
       "  Fast Lane available Replaced            Track layout Fastrack available  \\\n",
       "0                 NaN      NaN  Gravity pulled coaster                NaN   \n",
       "1                 NaN      NaN                     NaN                NaN   \n",
       "\n",
       "  Soft opening date.1 Closing date Opened Replaced by Website  \\\n",
       "0                 NaN          NaN    NaN         NaN     NaN   \n",
       "1                 NaN         1902    NaN         NaN     NaN   \n",
       "\n",
       "  Flash Pass Available Must transfer from wheelchair Theme  \\\n",
       "0                  NaN                           NaN   NaN   \n",
       "1                  NaN                           NaN   NaN   \n",
       "\n",
       "  Single rider line available Restraint Style Flash Pass available  \\\n",
       "0                         NaN             NaN                  NaN   \n",
       "1                         NaN             NaN                  NaN   \n",
       "\n",
       "  Acceleration Restraints Name  year_introduced  latitude  longitude  \\\n",
       "0          NaN        NaN  NaN             1884    40.574    -73.978   \n",
       "1          NaN        NaN  NaN             1895    40.578    -73.979   \n",
       "\n",
       "  Type_Main opening_date_clean  speed1    speed2  speed1_value speed1_unit  \\\n",
       "0      Wood         1884-06-16  6 mph   9.7 km/h           6.0         mph   \n",
       "1      Wood         1895-01-01     NaN       NaN           NaN         NaN   \n",
       "\n",
       "   speed_mph  height_value height_unit  height_ft  Inversions_clean  \\\n",
       "0        6.0          50.0          ft        NaN                 0   \n",
       "1        NaN           NaN         NaN        NaN                 1   \n",
       "\n",
       "   Gforce_clean  \n",
       "0           2.9  \n",
       "1          12.0  "
      ]
     },
     "execution_count": 41,
     "metadata": {},
     "output_type": "execute_result"
    }
   ],
   "source": [
    "df.head(2)"
   ]
  },
  {
   "cell_type": "code",
   "execution_count": 42,
   "id": "482e9fc5-bd6a-482c-ab74-3a0feaa2dba4",
   "metadata": {},
   "outputs": [
    {
     "data": {
      "text/plain": [
       "(1087, 56)"
      ]
     },
     "execution_count": 42,
     "metadata": {},
     "output_type": "execute_result"
    }
   ],
   "source": [
    "df.shape"
   ]
  },
  {
   "cell_type": "code",
   "execution_count": 43,
   "id": "3d0f0a21-cca5-44cb-b6d7-ae6249900ce2",
   "metadata": {},
   "outputs": [],
   "source": [
    "# take a copy of the dataframe\n",
    "\n",
    "df =  df[[\n",
    "    'coaster_name', \n",
    "    # 'Length', \n",
    "    'speed_mph',\n",
    "    'Location', 'Status', 'Opening date',\n",
    "       # 'Type',\n",
    "    'Manufacturer',\n",
    "       #  'Height restriction', 'Model', 'Height',\n",
    "       # 'Inversions', 'Lift/launch system', 'Cost', 'Trains', 'Park section',\n",
    "       # 'Duration', 'Capacity', 'G-force', 'Designer', 'Max vertical angle',\n",
    "       # 'Drop', 'Soft opening date', 'Fast Lane available', 'Replaced',\n",
    "       # 'Track layout', 'Fastrack available', 'Soft opening date.1',\n",
    "       # 'Closing date', 'Opened', 'Replaced by', 'Website',\n",
    "       # 'Flash Pass Available', 'Must transfer from wheelchair', 'Theme',\n",
    "       # 'Single rider line available', 'Restraint Style',\n",
    "       # 'Flash Pass available', 'Acceleration', 'Restraints', 'Name',\n",
    "       'year_introduced', 'latitude', 'longitude',\n",
    "        'Type_Main',\n",
    "       'opening_date_clean'\n",
    "]].copy()"
   ]
  },
  {
   "cell_type": "code",
   "execution_count": 44,
   "id": "7f5c31fb-8d24-4bd8-b906-3e172fd88b8a",
   "metadata": {},
   "outputs": [
    {
     "data": {
      "text/plain": [
       "(1087, 11)"
      ]
     },
     "execution_count": 44,
     "metadata": {},
     "output_type": "execute_result"
    }
   ],
   "source": [
    "df.shape"
   ]
  },
  {
   "cell_type": "code",
   "execution_count": 51,
   "id": "33ea3e94-9c85-4348-afa4-5f98ab75ea14",
   "metadata": {},
   "outputs": [
    {
     "data": {
      "image/png": "[encoded data removed]",
      "text/plain": [
       "<Figure size 640x480 with 1 Axes>"
      ]
     },
     "metadata": {},
     "output_type": "display_data"
    }
   ],
   "source": [
    "ax = df['year_introduced'].value_counts() \\\n",
    " .head(10) \\\n",
    " .sort_values() \\\n",
    " .plot(kind='bar',title=\"Top 10 years Coaster introduced\")\n",
    "\n",
    "ax.set_xlabel(\"year introduced\")\n",
    "ax.set_ylabel(\"Count\")\n",
    "\n",
    "plt.show()"
   ]
  },
  {
   "cell_type": "code",
   "execution_count": 52,
   "id": "60b35cac-1126-4687-829e-64537dd4e6a6",
   "metadata": {},
   "outputs": [
    {
     "data": {
      "image/png": "[encoded data removed]",
      "text/plain": [
       "<Figure size 640x480 with 1 Axes>"
      ]
     },
     "metadata": {},
     "output_type": "display_data"
    }
   ],
   "source": [
    "ax =df['speed_mph'].plot(kind=\"hist\", bins=22, title=\"coaster speed (mph)\")\n",
    "\n",
    "ax.set_xlabel(\"Speed (mph)\")\n",
    "\n",
    "plt.show()"
   ]
  },
  {
   "cell_type": "code",
   "execution_count": null,
   "id": "1bb2d29a-6c6c-45ea-a14c-a47a454c566a",
   "metadata": {},
   "outputs": [],
   "source": []
  },
  {
   "cell_type": "code",
   "execution_count": null,
   "id": "2458c073-a455-4ec3-8886-fb7967d6c651",
   "metadata": {},
   "outputs": [],
   "source": []
  },
  {
   "cell_type": "code",
   "execution_count": null,
   "id": "acd586f8-cee2-48bd-8e36-60801ca44a5d",
   "metadata": {},
   "outputs": [],
   "source": []
  }
 ],
 "metadata": {
  "kernelspec": {
   "display_name": "Python [conda env:base] *",
   "language": "python",
   "name": "conda-base-py"
  },
  "language_info": {
   "codemirror_mode": {
    "name": "ipython",
    "version": 3
   },
   "file_extension": ".py",
   "mimetype": "text/x-python",
   "name": "python",
   "nbconvert_exporter": "python",
   "pygments_lexer": "ipython3",
   "version": "3.12.7"
  }
 },
 "nbformat": 4,
 "nbformat_minor": 5
}
